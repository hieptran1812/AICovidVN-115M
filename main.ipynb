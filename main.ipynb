{
 "cells": [
  {
   "cell_type": "code",
   "execution_count": 1,
   "id": "bd37ab9c",
   "metadata": {},
   "outputs": [
    {
     "name": "stdout",
     "output_type": "stream",
     "text": [
      "WARNING:tensorflow:From C:\\Users\\v13260\\AppData\\Roaming\\Python\\Python38\\site-packages\\tensorflow\\python\\compat\\v2_compat.py:96: disable_resource_variables (from tensorflow.python.ops.variable_scope) is deprecated and will be removed in a future version.\n",
      "Instructions for updating:\n",
      "non-resource variables are not supported in the long term\n"
     ]
    }
   ],
   "source": [
    "# import all dependencies\n",
    "from utils import *"
   ]
  },
  {
   "cell_type": "code",
   "execution_count": 2,
   "id": "376b5603",
   "metadata": {},
   "outputs": [],
   "source": [
    "# update file paths accordingly\n",
    "train_dataset_path = 'train_audio_files_8k'\n",
    "train_metadata = pd.read_csv('metadata/metadata_train_challenge.csv')\n",
    "\n",
    "test_dataset_path = 'private_test_audio_files_8k'\n",
    "test_metadata = pd.read_csv('metadata/metadata_private_test.csv')\n",
    "\n",
    "encoder_path = 'model/encoder.pickle'\n",
    "model_path = 'model/xgb_model.pickle'\n",
    "\n",
    "train_npy_path = 'model/X_train.npy'\n",
    "test_npy_path = 'model/X_test.npy'"
   ]
  },
  {
   "cell_type": "markdown",
   "id": "d3f8fa6a",
   "metadata": {},
   "source": [
    "# 1. Extract Features"
   ]
  },
  {
   "cell_type": "code",
   "execution_count": 3,
   "id": "8e8745c0",
   "metadata": {},
   "outputs": [
    {
     "name": "stdout",
     "output_type": "stream",
     "text": [
      "INFO:tensorflow:Restoring parameters from vggish/vggish_model.ckpt\n"
     ]
    },
    {
     "name": "stderr",
     "output_type": "stream",
     "text": [
      "1199it [10:08,  1.97it/s]\n"
     ]
    }
   ],
   "source": [
    "# extract sound features for train set\n",
    "train_sound_features = extract_sound_features(train_metadata, train_dataset_path)"
   ]
  },
  {
   "cell_type": "code",
   "execution_count": 4,
   "id": "fc212362",
   "metadata": {},
   "outputs": [
    {
     "name": "stdout",
     "output_type": "stream",
     "text": [
      "INFO:tensorflow:Restoring parameters from vggish/vggish_model.ckpt\n"
     ]
    },
    {
     "name": "stderr",
     "output_type": "stream",
     "text": [
      "450it [03:23,  2.22it/s]\n"
     ]
    }
   ],
   "source": [
    "# extract sound features for test set\n",
    "test_sound_features = extract_sound_features(test_metadata, test_dataset_path)"
   ]
  },
  {
   "cell_type": "code",
   "execution_count": 5,
   "id": "ed618c93",
   "metadata": {},
   "outputs": [],
   "source": [
    "# extract metadata features for both datasets\n",
    "train_metadata_features = extract_metadata_features(train_metadata, encoder_path)\n",
    "test_metadata_features = extract_metadata_features(test_metadata, encoder_path)"
   ]
  },
  {
   "cell_type": "code",
   "execution_count": 6,
   "id": "dfd2fa61",
   "metadata": {},
   "outputs": [],
   "source": [
    "# concatenate into numpy arrays\n",
    "train = np.concatenate([np.array(train_sound_features), train_metadata_features], axis=1)\n",
    "test = np.concatenate([np.array(test_sound_features), test_metadata_features], axis=1)"
   ]
  },
  {
   "cell_type": "markdown",
   "id": "24fd4520",
   "metadata": {},
   "source": [
    "# 2. Train and predict with XGBClassifier"
   ]
  },
  {
   "cell_type": "code",
   "execution_count": 7,
   "id": "65e939b8",
   "metadata": {
    "tags": []
   },
   "outputs": [
    {
     "name": "stdout",
     "output_type": "stream",
     "text": [
      "[02:36:32] WARNING: C:/Users/Administrator/workspace/xgboost-win64_release_1.3.0/src/learner.cc:541: \n",
      "Parameters: { num_round, silent } might not be used.\n",
      "\n",
      "  This may not be accurate due to some parameters are only used in language bindings but\n",
      "  passed down to XGBoost core.  Or some parameters are not used but slip through this\n",
      "  verification. Please open an issue if you find above cases.\n",
      "\n",
      "\n"
     ]
    }
   ],
   "source": [
    "# train model\n",
    "xg = xgb.XGBClassifier(max_depth=7,learning_rate=0.07,\n",
    "                     n_estimators=200,\n",
    "                     silent=1,eta=1,objective='binary:logistic',\n",
    "                     num_round=50, eval_metric='auc')  \n",
    "xg.fit(train,train_metadata['assessment_result'])\n",
    "\n",
    "# predict on test set\n",
    "pred = xg.predict_proba(test)"
   ]
  },
  {
   "cell_type": "markdown",
   "id": "0cf9ca3a",
   "metadata": {},
   "source": [
    "# 3. Save submission and artifacts"
   ]
  },
  {
   "cell_type": "code",
   "execution_count": 8,
   "id": "0c368d70",
   "metadata": {},
   "outputs": [],
   "source": [
    "# prepare and save predictions for submission\n",
    "y_preds = pd.DataFrame(test_metadata['uuid'],columns=['uuid'])\n",
    "y_preds['assessment_result'] =  np.array(pred)[:,1]\n",
    "y_preds.to_csv('results.csv', index=False)"
   ]
  },
  {
   "cell_type": "code",
   "execution_count": 9,
   "id": "5e704df1",
   "metadata": {},
   "outputs": [],
   "source": [
    "# save other artifacts: model and feature arrays of train/test sets\n",
    "with open(model_path, 'wb') as f:\n",
    "    pickle.dump(xg, f)\n",
    "with open(train_npy_path, 'wb') as f:\n",
    "    pickle.dump(train, f)\n",
    "with open(test_npy_path, 'wb') as f:\n",
    "    pickle.dump(test, f)"
   ]
  },
  {
   "cell_type": "code",
   "execution_count": null,
   "id": "6be9915f",
   "metadata": {},
   "outputs": [],
   "source": []
  }
 ],
 "metadata": {
  "kernelspec": {
   "display_name": "Python 3 (ipykernel)",
   "language": "python",
   "name": "python3"
  },
  "language_info": {
   "codemirror_mode": {
    "name": "ipython",
    "version": 3
   },
   "file_extension": ".py",
   "mimetype": "text/x-python",
   "name": "python",
   "nbconvert_exporter": "python",
   "pygments_lexer": "ipython3",
   "version": "3.8.8"
  }
 },
 "nbformat": 4,
 "nbformat_minor": 5
}
